{
 "metadata": {
  "language_info": {
   "codemirror_mode": {
    "name": "ipython",
    "version": 3
   },
   "file_extension": ".py",
   "mimetype": "text/x-python",
   "name": "python",
   "nbconvert_exporter": "python",
   "pygments_lexer": "ipython3",
   "version": "3.8.5"
  },
  "orig_nbformat": 2,
  "kernelspec": {
   "name": "python3",
   "display_name": "Python 3.8.5 64-bit ('base': conda)"
  },
  "interpreter": {
   "hash": "97f613484c7082a5f441d3814b62bbd2ba6367090f977f8bd3f34e33dc661583"
  }
 },
 "nbformat": 4,
 "nbformat_minor": 2,
 "cells": [
  {
   "cell_type": "code",
   "execution_count": 46,
   "metadata": {},
   "outputs": [],
   "source": [
    "import pandas as pd\n",
    "import numpy as np\n",
    "import requests\n",
    "import time\n",
    "from datetime import date\n",
    "from datetime import datetime\n",
    "from config import polygon_api_key"
   ]
  },
  {
   "cell_type": "code",
   "execution_count": 40,
   "metadata": {},
   "outputs": [],
   "source": [
    "api_key = polygon_api_key\n",
    "tickers_df = pd.read_csv('ticker.csv')\n",
    "tickers = tickers_df['symbol']\n",
    "today = str(date.today())"
   ]
  },
  {
   "cell_type": "code",
   "execution_count": 41,
   "metadata": {},
   "outputs": [
    {
     "output_type": "stream",
     "name": "stdout",
     "text": [
      "Stock ticker ACIW found.\n",
      "Finding next...\n",
      "Stock ticker ACLS found.\n",
      "Finding next...\n",
      "Stock ticker COHU found.\n",
      "Finding next...\n",
      "Stock ticker MDLA found.\n",
      "Finding next...\n",
      "Stock ticker MSFT found.\n",
      "Finding next...\n",
      "Stock ticker PANW found.\n",
      "Finding next...\n",
      "Stock ticker PAR found.\n",
      "Finding next...\n",
      "Stock ticker PYPL found.\n",
      "Finding next...\n",
      "Stock ticker CRM found.\n",
      "Finding next...\n",
      "Stock ticker NOW found.\n",
      "Finding next...\n",
      "Stock ticker TWLO found.\n",
      "Finding next...\n"
     ]
    }
   ],
   "source": [
    "stock_data = []\n",
    "for ticker in tickers:\n",
    "    url = f'https://api.polygon.io/v2/aggs/ticker/{ticker}/range/1/day/2021-01-01/{today}?apiKey='\n",
    "    api_result = requests.get(url + api_key).json()\n",
    "    print(f'Stock ticker {ticker} found.')\n",
    "    stock_data.append(api_result)\n",
    "    print('Finding next...')\n",
    "    time.sleep(15)"
   ]
  },
  {
   "cell_type": "code",
   "execution_count": 48,
   "metadata": {},
   "outputs": [],
   "source": [
    "ticker_list = []\n",
    "openings = []\n",
    "closings = []\n",
    "highs = []\n",
    "lows = []\n",
    "dates = []\n",
    "\n",
    "for x in range(len(stock_data)):\n",
    "    stock_results = stock_data[x]['results']\n",
    "    for y in range(len(stock_results)):\n",
    "        ticker = stock_data[x]['ticker']\n",
    "        opening = stock_results[y]['o']\n",
    "        closing = stock_results[y]['c']\n",
    "        high = stock_results[y]['h']\n",
    "        low = stock_results[y]['l']\n",
    "        time = stock_results[y]['t']\n",
    "        date = datetime.utcfromtimestamp(time/1000).strftime('%Y-%m-%d')\n",
    "        ticker_list.append(ticker)\n",
    "        openings.append(opening)\n",
    "        closings.append(closing)\n",
    "        highs.append(high)\n",
    "        lows.append(low)\n",
    "        dates.append(date)\n",
    "\n",
    "df = pd.DataFrame({\n",
    "    'ticker':ticker_list,\n",
    "    'opening':openings,\n",
    "    'closing':closings,\n",
    "    'high':highs,\n",
    "    'low':lows,\n",
    "    'date':dates\n",
    "})"
   ]
  },
  {
   "cell_type": "code",
   "execution_count": 49,
   "metadata": {},
   "outputs": [
    {
     "output_type": "execute_result",
     "data": {
      "text/plain": [
       "     ticker  opening  closing    high       low        date\n",
       "0      ACIW    38.68    37.88   38.69   37.1800  2021-01-04\n",
       "1      ACIW    37.75    38.00   38.18   37.7400  2021-01-05\n",
       "2      ACIW    38.18    38.63   39.32   37.9600  2021-01-06\n",
       "3      ACIW    38.98    39.14   39.19   38.7000  2021-01-07\n",
       "4      ACIW    39.50    39.21   40.29   38.9300  2021-01-08\n",
       "...     ...      ...      ...     ...       ...         ...\n",
       "1227   TWLO   316.38   317.20  323.81  312.5000  2021-06-08\n",
       "1228   TWLO   318.90   314.61  326.74  314.2800  2021-06-09\n",
       "1229   TWLO   314.00   324.10  324.95  312.7527  2021-06-10\n",
       "1230   TWLO   324.04   332.73  333.99  322.2900  2021-06-11\n",
       "1231   TWLO   335.50   343.07  347.13  333.0000  2021-06-14\n",
       "\n",
       "[1232 rows x 6 columns]"
      ],
      "text/html": "<div>\n<style scoped>\n    .dataframe tbody tr th:only-of-type {\n        vertical-align: middle;\n    }\n\n    .dataframe tbody tr th {\n        vertical-align: top;\n    }\n\n    .dataframe thead th {\n        text-align: right;\n    }\n</style>\n<table border=\"1\" class=\"dataframe\">\n  <thead>\n    <tr style=\"text-align: right;\">\n      <th></th>\n      <th>ticker</th>\n      <th>opening</th>\n      <th>closing</th>\n      <th>high</th>\n      <th>low</th>\n      <th>date</th>\n    </tr>\n  </thead>\n  <tbody>\n    <tr>\n      <th>0</th>\n      <td>ACIW</td>\n      <td>38.68</td>\n      <td>37.88</td>\n      <td>38.69</td>\n      <td>37.1800</td>\n      <td>2021-01-04</td>\n    </tr>\n    <tr>\n      <th>1</th>\n      <td>ACIW</td>\n      <td>37.75</td>\n      <td>38.00</td>\n      <td>38.18</td>\n      <td>37.7400</td>\n      <td>2021-01-05</td>\n    </tr>\n    <tr>\n      <th>2</th>\n      <td>ACIW</td>\n      <td>38.18</td>\n      <td>38.63</td>\n      <td>39.32</td>\n      <td>37.9600</td>\n      <td>2021-01-06</td>\n    </tr>\n    <tr>\n      <th>3</th>\n      <td>ACIW</td>\n      <td>38.98</td>\n      <td>39.14</td>\n      <td>39.19</td>\n      <td>38.7000</td>\n      <td>2021-01-07</td>\n    </tr>\n    <tr>\n      <th>4</th>\n      <td>ACIW</td>\n      <td>39.50</td>\n      <td>39.21</td>\n      <td>40.29</td>\n      <td>38.9300</td>\n      <td>2021-01-08</td>\n    </tr>\n    <tr>\n      <th>...</th>\n      <td>...</td>\n      <td>...</td>\n      <td>...</td>\n      <td>...</td>\n      <td>...</td>\n      <td>...</td>\n    </tr>\n    <tr>\n      <th>1227</th>\n      <td>TWLO</td>\n      <td>316.38</td>\n      <td>317.20</td>\n      <td>323.81</td>\n      <td>312.5000</td>\n      <td>2021-06-08</td>\n    </tr>\n    <tr>\n      <th>1228</th>\n      <td>TWLO</td>\n      <td>318.90</td>\n      <td>314.61</td>\n      <td>326.74</td>\n      <td>314.2800</td>\n      <td>2021-06-09</td>\n    </tr>\n    <tr>\n      <th>1229</th>\n      <td>TWLO</td>\n      <td>314.00</td>\n      <td>324.10</td>\n      <td>324.95</td>\n      <td>312.7527</td>\n      <td>2021-06-10</td>\n    </tr>\n    <tr>\n      <th>1230</th>\n      <td>TWLO</td>\n      <td>324.04</td>\n      <td>332.73</td>\n      <td>333.99</td>\n      <td>322.2900</td>\n      <td>2021-06-11</td>\n    </tr>\n    <tr>\n      <th>1231</th>\n      <td>TWLO</td>\n      <td>335.50</td>\n      <td>343.07</td>\n      <td>347.13</td>\n      <td>333.0000</td>\n      <td>2021-06-14</td>\n    </tr>\n  </tbody>\n</table>\n<p>1232 rows × 6 columns</p>\n</div>"
     },
     "metadata": {},
     "execution_count": 49
    }
   ],
   "source": [
    "df"
   ]
  },
  {
   "cell_type": "code",
   "execution_count": 50,
   "metadata": {},
   "outputs": [],
   "source": [
    "df.to_csv('ticker_daily.csv',index=False)"
   ]
  }
 ]
}