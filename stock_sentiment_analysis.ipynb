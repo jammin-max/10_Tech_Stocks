{
 "metadata": {
  "language_info": {
   "codemirror_mode": {
    "name": "ipython",
    "version": 3
   },
   "file_extension": ".py",
   "mimetype": "text/x-python",
   "name": "python",
   "nbconvert_exporter": "python",
   "pygments_lexer": "ipython3",
   "version": "3.8.5"
  },
  "orig_nbformat": 2,
  "kernelspec": {
   "name": "python3",
   "display_name": "Python 3.8.5 64-bit ('base': conda)"
  },
  "interpreter": {
   "hash": "8d4abf1b7acf6c08228572b93ea2ea3f8ac026ef543e5c7962f606e9aa6c2e53"
  }
 },
 "nbformat": 4,
 "nbformat_minor": 2,
 "cells": [
  {
   "cell_type": "code",
   "execution_count": 1,
   "metadata": {},
   "outputs": [],
   "source": [
    "import pandas as pd\n",
    "import time\n",
    "from datetime import datetime\n",
    "import requests\n",
    "from bs4 import BeautifulSoup\n",
    "from nltk.sentiment.vader import SentimentIntensityAnalyzer"
   ]
  },
  {
   "cell_type": "code",
   "execution_count": 2,
   "metadata": {},
   "outputs": [],
   "source": [
    "ticker_csv = pd.read_csv('ticker.csv')\n",
    "tickers = ticker_csv['symbol'].tolist()"
   ]
  },
  {
   "cell_type": "code",
   "execution_count": 3,
   "metadata": {},
   "outputs": [],
   "source": [
    "finviz_url = \"https://finviz.com/quote.ashx?t=\""
   ]
  },
  {
   "cell_type": "code",
   "execution_count": 4,
   "metadata": {
    "tags": []
   },
   "outputs": [],
   "source": [
    "#iterating through the tickers list and performing a get request to finviz for news titles related to that symbol.\n",
    "#create a beautiful soup object for parsing.\n",
    "\n",
    "ticker_news = {}\n",
    "for ticker in tickers:\n",
    "    url = f'{finviz_url}{ticker}'\n",
    "\n",
    "    response = requests.get(url,headers={'user-agent':'sentiment_analysis'})\n",
    "   \n",
    "    soup = BeautifulSoup(response.text, 'html.parser')\n",
    "    news_table = soup.find(id='news-table')\n",
    "    ticker_news[ticker] = news_table\n",
    "\n",
    "    #print(ticker_news)"
   ]
  },
  {
   "cell_type": "code",
   "execution_count": 5,
   "metadata": {
    "tags": []
   },
   "outputs": [],
   "source": [
    "#parsing through the ticker_news titles and storing the ticker, date, time and news title in a list.\n",
    "parsed_data = []\n",
    "\n",
    "for ticker, news_table in ticker_news.items():\n",
    "    for row in news_table.find_all('tr'):\n",
    "        \n",
    "        title = row.a.text\n",
    "        date_data = row.td.text.split(\" \")\n",
    "        date = date_data[0]\n",
    "        \n",
    "        parsed_data.append([ticker, date, title])"
   ]
  },
  {
   "cell_type": "code",
   "execution_count": 6,
   "metadata": {},
   "outputs": [
    {
     "output_type": "execute_result",
     "data": {
      "text/plain": [
       "  ticker       date                                         news_title\n",
       "0   ACIW 2021-06-12  Is ACI Worldwide, Inc. (NASDAQ:ACIW) Trading A...\n",
       "1   ACIW 2021-06-08  Indian Consumers More Concerned About Digital ...\n",
       "2   ACIW 2021-06-01  ACI Worldwide Powers Payments Innovation for P...\n",
       "3   ACIW 2021-05-28  ACI Worldwide to Attend Craig-Hallum Instituti...\n",
       "4   ACIW 2021-05-25  ACI Worldwide and J.P. Morgan Collaborate to O..."
      ],
      "text/html": "<div>\n<style scoped>\n    .dataframe tbody tr th:only-of-type {\n        vertical-align: middle;\n    }\n\n    .dataframe tbody tr th {\n        vertical-align: top;\n    }\n\n    .dataframe thead th {\n        text-align: right;\n    }\n</style>\n<table border=\"1\" class=\"dataframe\">\n  <thead>\n    <tr style=\"text-align: right;\">\n      <th></th>\n      <th>ticker</th>\n      <th>date</th>\n      <th>news_title</th>\n    </tr>\n  </thead>\n  <tbody>\n    <tr>\n      <th>0</th>\n      <td>ACIW</td>\n      <td>2021-06-12</td>\n      <td>Is ACI Worldwide, Inc. (NASDAQ:ACIW) Trading A...</td>\n    </tr>\n    <tr>\n      <th>1</th>\n      <td>ACIW</td>\n      <td>2021-06-08</td>\n      <td>Indian Consumers More Concerned About Digital ...</td>\n    </tr>\n    <tr>\n      <th>2</th>\n      <td>ACIW</td>\n      <td>2021-06-01</td>\n      <td>ACI Worldwide Powers Payments Innovation for P...</td>\n    </tr>\n    <tr>\n      <th>3</th>\n      <td>ACIW</td>\n      <td>2021-05-28</td>\n      <td>ACI Worldwide to Attend Craig-Hallum Instituti...</td>\n    </tr>\n    <tr>\n      <th>4</th>\n      <td>ACIW</td>\n      <td>2021-05-25</td>\n      <td>ACI Worldwide and J.P. Morgan Collaborate to O...</td>\n    </tr>\n  </tbody>\n</table>\n</div>"
     },
     "metadata": {},
     "execution_count": 6
    }
   ],
   "source": [
    "#creating a pandas df out of the parsed data list\n",
    "sentiment_df = pd.DataFrame(parsed_data, columns=['ticker', 'date', 'news_title'])\n",
    "sentiment_df['date'] = pd.to_datetime(sentiment_df['date']).dt.normalize()\n",
    "sentiment_df.head()"
   ]
  },
  {
   "cell_type": "code",
   "execution_count": 7,
   "metadata": {},
   "outputs": [],
   "source": [
    "#creating a sentiment analyzer object\n",
    "vader = SentimentIntensityAnalyzer()"
   ]
  },
  {
   "cell_type": "code",
   "execution_count": 9,
   "metadata": {},
   "outputs": [],
   "source": [
    "#Using a lambda function to get the compound sentiment analysis score for each title and store it in the compound_score column\n",
    "sentiment_df['compound_score'] = sentiment_df['news_title'].apply(lambda title: vader.polarity_scores(title)['compound']).round(3)"
   ]
  },
  {
   "cell_type": "code",
   "execution_count": 10,
   "metadata": {},
   "outputs": [
    {
     "output_type": "execute_result",
     "data": {
      "text/plain": [
       "  ticker       date                                         news_title  \\\n",
       "0   ACIW 2021-06-12  Is ACI Worldwide, Inc. (NASDAQ:ACIW) Trading A...   \n",
       "1   ACIW 2021-06-08  Indian Consumers More Concerned About Digital ...   \n",
       "2   ACIW 2021-06-01  ACI Worldwide Powers Payments Innovation for P...   \n",
       "3   ACIW 2021-05-28  ACI Worldwide to Attend Craig-Hallum Instituti...   \n",
       "4   ACIW 2021-05-25  ACI Worldwide and J.P. Morgan Collaborate to O...   \n",
       "\n",
       "   compound_score  \n",
       "0           0.000  \n",
       "1          -0.586  \n",
       "2           0.296  \n",
       "3           0.000  \n",
       "4           0.361  "
      ],
      "text/html": "<div>\n<style scoped>\n    .dataframe tbody tr th:only-of-type {\n        vertical-align: middle;\n    }\n\n    .dataframe tbody tr th {\n        vertical-align: top;\n    }\n\n    .dataframe thead th {\n        text-align: right;\n    }\n</style>\n<table border=\"1\" class=\"dataframe\">\n  <thead>\n    <tr style=\"text-align: right;\">\n      <th></th>\n      <th>ticker</th>\n      <th>date</th>\n      <th>news_title</th>\n      <th>compound_score</th>\n    </tr>\n  </thead>\n  <tbody>\n    <tr>\n      <th>0</th>\n      <td>ACIW</td>\n      <td>2021-06-12</td>\n      <td>Is ACI Worldwide, Inc. (NASDAQ:ACIW) Trading A...</td>\n      <td>0.000</td>\n    </tr>\n    <tr>\n      <th>1</th>\n      <td>ACIW</td>\n      <td>2021-06-08</td>\n      <td>Indian Consumers More Concerned About Digital ...</td>\n      <td>-0.586</td>\n    </tr>\n    <tr>\n      <th>2</th>\n      <td>ACIW</td>\n      <td>2021-06-01</td>\n      <td>ACI Worldwide Powers Payments Innovation for P...</td>\n      <td>0.296</td>\n    </tr>\n    <tr>\n      <th>3</th>\n      <td>ACIW</td>\n      <td>2021-05-28</td>\n      <td>ACI Worldwide to Attend Craig-Hallum Instituti...</td>\n      <td>0.000</td>\n    </tr>\n    <tr>\n      <th>4</th>\n      <td>ACIW</td>\n      <td>2021-05-25</td>\n      <td>ACI Worldwide and J.P. Morgan Collaborate to O...</td>\n      <td>0.361</td>\n    </tr>\n  </tbody>\n</table>\n</div>"
     },
     "metadata": {},
     "execution_count": 10
    }
   ],
   "source": [
    "sentiment_df.head()"
   ]
  },
  {
   "cell_type": "code",
   "execution_count": 11,
   "metadata": {},
   "outputs": [],
   "source": [
    "sentiment_df.to_csv('sentiment.csv')"
   ]
  }
 ]
}